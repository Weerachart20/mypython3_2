{
 "cells": [
  {
   "cell_type": "code",
   "execution_count": 4,
   "metadata": {},
   "outputs": [
    {
     "name": "stdout",
     "output_type": "stream",
     "text": [
      "ขื่อพนักงาน วีรชาติ \n",
      "เงินเดือน 50000\n",
      "ล่วงเวลา 30\n",
      "ค่าล่วงเวลา 30\n",
      "รวมเป็นเงินทั้งสิ้น 53000\n"
     ]
    }
   ],
   "source": [
    "def payroll(name, salary, ot):\n",
    "    if (ot >= 40):\n",
    "        money_ot = ot * 150\n",
    "    else:\n",
    "        money_ot = ot* 100\n",
    "    t = salary + money_ot\n",
    "    print(\"ขื่อพนักงาน %s \"% name)\n",
    "    print(\"เงินเดือน %d\" % salary)\n",
    "    print(\"ล่วงเวลา %d\" % ot)\n",
    "    print(\"ค่าล่วงเวลา %d\" % ot)\n",
    "    print(\"รวมเป็นเงินทั้งสิ้น %d\" % t)\n",
    "\n",
    "n = input(\"ชื่อพนักงาน :\")\n",
    "s = int(input(\"กรอกเงินเดือน :\"))\n",
    "o = int(input(\"ล่วงเวลา :\"))\n",
    "payroll(n,s,o)\n",
    "\n",
    "    \n"
   ]
  }
 ],
 "metadata": {
  "kernelspec": {
   "display_name": "Python 3",
   "language": "python",
   "name": "python3"
  },
  "language_info": {
   "codemirror_mode": {
    "name": "ipython",
    "version": 3
   },
   "file_extension": ".py",
   "mimetype": "text/x-python",
   "name": "python",
   "nbconvert_exporter": "python",
   "pygments_lexer": "ipython3",
   "version": "3.12.4"
  }
 },
 "nbformat": 4,
 "nbformat_minor": 2
}
